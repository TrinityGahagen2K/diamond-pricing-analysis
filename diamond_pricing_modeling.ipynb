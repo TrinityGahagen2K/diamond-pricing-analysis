{
 "cells": [
  {
   "cell_type": "markdown",
   "metadata": {},
   "source": [
    "# Diamond Pricing Models\n",
    "## Authored by Trinity Gahagen\n",
    "### Phase 3 Project for Flatiron School\n",
    "---\n",
    "---"
   ]
  },
  {
   "cell_type": "code",
   "execution_count": 87,
   "metadata": {},
   "outputs": [],
   "source": [
    "# Import\n",
    "import numpy as np\n",
    "import pandas as pd\n",
    "import matplotlib.pyplot as plt\n",
    "import seaborn as sns\n",
    "\n",
    "# Plot Styles\n",
    "plt.style.use('seaborn-v0_8-darkgrid')\n",
    "plt.rcParams['axes.titleweight'] = 'bold'\n",
    "plt.rcParams['font.size'] = 11\n",
    "from matplotlib.ticker import FuncFormatter\n",
    "\n",
    "# ML Tools\n",
    "from sklearn.preprocessing import StandardScaler, MinMaxScaler\n",
    "from sklearn.model_selection import train_test_split, StratifiedKFold, KFold, GridSearchCV, RandomizedSearchCV, cross_val_score, cross_validate\n",
    "from sklearn.model_selection import RepeatedStratifiedKFold\n",
    "from sklearn.pipeline import Pipeline\n",
    "from imblearn.pipeline import Pipeline as imb_pipe\n",
    "from imblearn.under_sampling import RandomUnderSampler\n",
    "from imblearn.over_sampling import SMOTE\n",
    "\n",
    "# Classification metrics\n",
    "from sklearn.metrics import classification_report, confusion_matrix, accuracy_score, f1_score, precision_score, roc_auc_score, make_scorer\n",
    "# Regression metrics\n",
    "from sklearn.metrics import r2_score, mean_absolute_error, mean_squared_error, explained_variance_score\n",
    "\n",
    "# ML Models\n",
    "from sklearn.neighbors import KNeighborsClassifier, KNeighborsRegressor\n",
    "from sklearn.svm import SVC, SVR\n",
    "from sklearn.tree import DecisionTreeClassifier, DecisionTreeRegressor\n",
    "from sklearn.naive_bayes import GaussianNB, MultinomialNB\n",
    "from sklearn.linear_model import LinearRegression, LogisticRegression, Lasso, Ridge\n",
    "from sklearn.ensemble import RandomForestClassifier, RandomForestRegressor\n",
    "from sklearn.ensemble import AdaBoostClassifier, AdaBoostRegressor, GradientBoostingClassifier, GradientBoostingRegressor"
   ]
  },
  {
   "cell_type": "code",
   "execution_count": 2,
   "metadata": {},
   "outputs": [],
   "source": [
    "diamonds = pd.read_csv('updated_diamonds.csv')"
   ]
  },
  {
   "cell_type": "code",
   "execution_count": 3,
   "metadata": {},
   "outputs": [
    {
     "name": "stdout",
     "output_type": "stream",
     "text": [
      "<class 'pandas.core.frame.DataFrame'>\n",
      "RangeIndex: 119307 entries, 0 to 119306\n",
      "Data columns (total 10 columns):\n",
      " #   Column      Non-Null Count   Dtype  \n",
      "---  ------      --------------   -----  \n",
      " 0   shape       119307 non-null  object \n",
      " 1   price       119307 non-null  int64  \n",
      " 2   carat       119307 non-null  float64\n",
      " 3   cut         119307 non-null  object \n",
      " 4   color       119307 non-null  object \n",
      " 5   clarity     119307 non-null  object \n",
      " 6   report      119307 non-null  object \n",
      " 7   type        119307 non-null  object \n",
      " 8   sqrt_price  119307 non-null  float64\n",
      " 9   log_price   119307 non-null  float64\n",
      "dtypes: float64(3), int64(1), object(6)\n",
      "memory usage: 9.1+ MB\n"
     ]
    }
   ],
   "source": [
    "diamonds.info()"
   ]
  },
  {
   "cell_type": "markdown",
   "metadata": {},
   "source": [
    "## Data Cleaning/Preprocessing"
   ]
  },
  {
   "cell_type": "code",
   "execution_count": 4,
   "metadata": {},
   "outputs": [
    {
     "name": "stdout",
     "output_type": "stream",
     "text": [
      "<class 'pandas.core.frame.DataFrame'>\n",
      "RangeIndex: 119307 entries, 0 to 119306\n",
      "Data columns (total 20 columns):\n",
      " #   Column          Non-Null Count   Dtype  \n",
      "---  ------          --------------   -----  \n",
      " 0   price           119307 non-null  int64  \n",
      " 1   carat           119307 non-null  float64\n",
      " 2   cut             119307 non-null  object \n",
      " 3   color           119307 non-null  object \n",
      " 4   clarity         119307 non-null  object \n",
      " 5   type            119307 non-null  object \n",
      " 6   sqrt_price      119307 non-null  float64\n",
      " 7   log_price       119307 non-null  float64\n",
      " 8   shape_Cushion   119307 non-null  int32  \n",
      " 9   shape_Emerald   119307 non-null  int32  \n",
      " 10  shape_Heart     119307 non-null  int32  \n",
      " 11  shape_Marquise  119307 non-null  int32  \n",
      " 12  shape_Oval      119307 non-null  int32  \n",
      " 13  shape_Pear      119307 non-null  int32  \n",
      " 14  shape_Princess  119307 non-null  int32  \n",
      " 15  shape_Radiant   119307 non-null  int32  \n",
      " 16  shape_Round     119307 non-null  int32  \n",
      " 17  report_GIA      119307 non-null  int32  \n",
      " 18  report_HRD      119307 non-null  int32  \n",
      " 19  report_IGI      119307 non-null  int32  \n",
      "dtypes: float64(3), int32(12), int64(1), object(4)\n",
      "memory usage: 12.7+ MB\n"
     ]
    }
   ],
   "source": [
    "one_hot_columns = ['shape', 'report']\n",
    "\n",
    "preprocessed_diamonds = pd.get_dummies(diamonds, columns=one_hot_columns, drop_first=True, dtype=int)\n",
    "preprocessed_diamonds.info()"
   ]
  },
  {
   "cell_type": "code",
   "execution_count": 5,
   "metadata": {},
   "outputs": [
    {
     "name": "stdout",
     "output_type": "stream",
     "text": [
      "['Very Good' 'Ideal' 'Super Ideal' 'Good' 'Fair']\n",
      "['J' 'I' 'E' 'F' 'G' 'H' 'D']\n",
      "['SI2' 'SI1' 'VS2' 'VVS1' 'VS1' 'VVS2' 'IF' 'FL']\n"
     ]
    }
   ],
   "source": [
    "for col in ['cut', 'color', 'clarity']:\n",
    "    print(diamonds[col].unique())"
   ]
  },
  {
   "cell_type": "code",
   "execution_count": 6,
   "metadata": {},
   "outputs": [],
   "source": [
    "# Ordinal encoding for the categories with inherent order\n",
    "cut_encoder = {\n",
    "    'Fair' : 0,\n",
    "    'Good' : 1,\n",
    "    'Very Good' : 2,\n",
    "    'Ideal' : 3,\n",
    "    'Super Ideal': 4\n",
    "}\n",
    "\n",
    "color_encoder = {\n",
    "    'J' : 0,\n",
    "    'I' : 1,\n",
    "    'H' : 2,\n",
    "    'G' : 3,\n",
    "    'F' : 4,\n",
    "    'E' : 5,\n",
    "    'D' : 6,\n",
    "}\n",
    "\n",
    "clarity_encoder = {\n",
    "    'SI2' : 0,\n",
    "    'SI1' : 1,\n",
    "    'VS2' : 2,\n",
    "    'VS1' : 3,\n",
    "    'VVS2' : 4,\n",
    "    'VVS1' : 5,\n",
    "    'IF' : 6,\n",
    "    'FL' : 7\n",
    "}"
   ]
  },
  {
   "cell_type": "code",
   "execution_count": 7,
   "metadata": {},
   "outputs": [],
   "source": [
    "preprocessed_diamonds['cut'] = preprocessed_diamonds['cut'].map(cut_encoder)\n",
    "\n",
    "preprocessed_diamonds['color'] = preprocessed_diamonds['color'].map(color_encoder)\n",
    "\n",
    "preprocessed_diamonds['clarity'] = preprocessed_diamonds['clarity'].map(clarity_encoder)"
   ]
  },
  {
   "cell_type": "code",
   "execution_count": 8,
   "metadata": {},
   "outputs": [],
   "source": [
    "# Binarizing the type column\n",
    "type_encoder = {\n",
    "    'natural' : 1,\n",
    "    'lab' : 0\n",
    "}"
   ]
  },
  {
   "cell_type": "code",
   "execution_count": 9,
   "metadata": {},
   "outputs": [
    {
     "name": "stdout",
     "output_type": "stream",
     "text": [
      "<class 'pandas.core.frame.DataFrame'>\n",
      "RangeIndex: 119307 entries, 0 to 119306\n",
      "Data columns (total 21 columns):\n",
      " #   Column          Non-Null Count   Dtype  \n",
      "---  ------          --------------   -----  \n",
      " 0   price           119307 non-null  int64  \n",
      " 1   carat           119307 non-null  float64\n",
      " 2   cut             119307 non-null  int64  \n",
      " 3   color           119307 non-null  int64  \n",
      " 4   clarity         119307 non-null  int64  \n",
      " 5   type            119307 non-null  object \n",
      " 6   sqrt_price      119307 non-null  float64\n",
      " 7   log_price       119307 non-null  float64\n",
      " 8   shape_Cushion   119307 non-null  int32  \n",
      " 9   shape_Emerald   119307 non-null  int32  \n",
      " 10  shape_Heart     119307 non-null  int32  \n",
      " 11  shape_Marquise  119307 non-null  int32  \n",
      " 12  shape_Oval      119307 non-null  int32  \n",
      " 13  shape_Pear      119307 non-null  int32  \n",
      " 14  shape_Princess  119307 non-null  int32  \n",
      " 15  shape_Radiant   119307 non-null  int32  \n",
      " 16  shape_Round     119307 non-null  int32  \n",
      " 17  report_GIA      119307 non-null  int32  \n",
      " 18  report_HRD      119307 non-null  int32  \n",
      " 19  report_IGI      119307 non-null  int32  \n",
      " 20  natural         119307 non-null  int64  \n",
      "dtypes: float64(3), int32(12), int64(5), object(1)\n",
      "memory usage: 13.7+ MB\n"
     ]
    }
   ],
   "source": [
    "preprocessed_diamonds['natural'] = preprocessed_diamonds['type'].map(type_encoder)\n",
    "\n",
    "preprocessed_diamonds.info()"
   ]
  },
  {
   "cell_type": "code",
   "execution_count": 10,
   "metadata": {},
   "outputs": [],
   "source": [
    "try:\n",
    "    preprocessed_diamonds.drop(columns='type', inplace=True)\n",
    "except:\n",
    "    print(\"Column already dropped\")"
   ]
  },
  {
   "cell_type": "markdown",
   "metadata": {},
   "source": [
    "## \"Shotgun\" Approach: Regression"
   ]
  },
  {
   "cell_type": "code",
   "execution_count": 11,
   "metadata": {},
   "outputs": [],
   "source": [
    "initial_models = {\n",
    "    'lasso' : {\n",
    "        'model' : Lasso(),\n",
    "        'score' : []\n",
    "    },\n",
    "    'ridge' : {\n",
    "        'model' : Ridge(),\n",
    "        'score' : []\n",
    "    },\n",
    "    'rand_forest' : {\n",
    "        'model' : RandomForestRegressor(),\n",
    "        'score' : []\n",
    "    },\n",
    "    'ada' : {\n",
    "        'model' : AdaBoostRegressor(),\n",
    "        'score' : []\n",
    "    },\n",
    "    'gboost' : {\n",
    "        'model' : GradientBoostingRegressor(),\n",
    "        'score' : []\n",
    "    },\n",
    "    'knn' : {\n",
    "        'model' : KNeighborsRegressor(),\n",
    "        'score' : []\n",
    "    }\n",
    "}"
   ]
  },
  {
   "cell_type": "code",
   "execution_count": 12,
   "metadata": {},
   "outputs": [],
   "source": [
    "# Split data into features and target, starting with the un-transformed price column\n",
    "X = preprocessed_diamonds.drop(columns=['price', 'sqrt_price', 'log_price'])\n",
    "y = preprocessed_diamonds['price']"
   ]
  },
  {
   "cell_type": "code",
   "execution_count": 13,
   "metadata": {},
   "outputs": [],
   "source": [
    "for model in initial_models:\n",
    "    kfold = KFold(n_splits=10)\n",
    "    regressor = initial_models[model]['model']\n",
    "    \n",
    "    results = cross_val_score(regressor, X, y, cv=kfold, n_jobs=-1)\n",
    "\n",
    "    initial_models[model]['score'].extend(results)"
   ]
  },
  {
   "cell_type": "code",
   "execution_count": 14,
   "metadata": {},
   "outputs": [
    {
     "name": "stdout",
     "output_type": "stream",
     "text": [
      "Model Name: lasso\n",
      "Average R^2 Score: -250.95707663407953\n",
      "----------------------------------------\n",
      "Model Name: ridge\n",
      "Average R^2 Score: -251.95242674416608\n",
      "----------------------------------------\n",
      "Model Name: rand_forest\n",
      "Average R^2 Score: -2.6165103036300836\n",
      "----------------------------------------\n",
      "Model Name: ada\n",
      "Average R^2 Score: -544.7240159267044\n",
      "----------------------------------------\n",
      "Model Name: gboost\n",
      "Average R^2 Score: -6.318684776194239\n",
      "----------------------------------------\n",
      "Model Name: knn\n",
      "Average R^2 Score: -7.8380752200192045\n",
      "----------------------------------------\n"
     ]
    }
   ],
   "source": [
    "for model in initial_models:\n",
    "    print(f'Model Name: {model}')\n",
    "    print(f'Average R^2 Score: {np.mean(initial_models[model][\"score\"])}')\n",
    "    print('----------------------------------------')"
   ]
  },
  {
   "cell_type": "code",
   "execution_count": 15,
   "metadata": {},
   "outputs": [],
   "source": [
    "# Split data into features and target, now with square root transform\n",
    "# X = preprocessed_diamonds.drop(columns=['price', 'sqrt_price', 'log_price'])\n",
    "y = preprocessed_diamonds['sqrt_price']\n",
    "\n",
    "initial_models_sqrt = {\n",
    "    'lasso' : {\n",
    "        'model' : Lasso(),\n",
    "        'score' : []\n",
    "    },\n",
    "    'ridge' : {\n",
    "        'model' : Ridge(),\n",
    "        'score' : []\n",
    "    },\n",
    "    'rand_forest' : {\n",
    "        'model' : RandomForestRegressor(),\n",
    "        'score' : []\n",
    "    },\n",
    "    'ada' : {\n",
    "        'model' : AdaBoostRegressor(),\n",
    "        'score' : []\n",
    "    },\n",
    "    'gboost' : {\n",
    "        'model' : GradientBoostingRegressor(),\n",
    "        'score' : []\n",
    "    },\n",
    "    'knn' : {\n",
    "        'model' : KNeighborsRegressor(),\n",
    "        'score' : []\n",
    "    }\n",
    "}"
   ]
  },
  {
   "cell_type": "code",
   "execution_count": 16,
   "metadata": {},
   "outputs": [],
   "source": [
    "for model in initial_models_sqrt:\n",
    "    kfold = KFold(n_splits=10)\n",
    "    regressor = initial_models_sqrt[model]['model']\n",
    "    \n",
    "    results = cross_val_score(regressor, X, y, cv=kfold, n_jobs=-1)\n",
    "\n",
    "    initial_models_sqrt[model]['score'].extend(results)"
   ]
  },
  {
   "cell_type": "code",
   "execution_count": 17,
   "metadata": {},
   "outputs": [
    {
     "name": "stdout",
     "output_type": "stream",
     "text": [
      "Model Name: lasso\n",
      "Average R^2 Score: -6.7223281993808275\n",
      "----------------------------------------\n",
      "Model Name: ridge\n",
      "Average R^2 Score: -9.100679697885258\n",
      "----------------------------------------\n",
      "Model Name: rand_forest\n",
      "Average R^2 Score: -1.704514241817952\n",
      "----------------------------------------\n",
      "Model Name: ada\n",
      "Average R^2 Score: -59.701916477645796\n",
      "----------------------------------------\n",
      "Model Name: gboost\n",
      "Average R^2 Score: -0.9645268781688676\n",
      "----------------------------------------\n",
      "Model Name: knn\n",
      "Average R^2 Score: -4.518743036559828\n",
      "----------------------------------------\n"
     ]
    }
   ],
   "source": [
    "for model in initial_models_sqrt:\n",
    "    print(f'Model Name: {model}')\n",
    "    print(f'Average R^2 Score: {np.mean(initial_models_sqrt[model][\"score\"])}')\n",
    "    print('----------------------------------------')"
   ]
  },
  {
   "cell_type": "code",
   "execution_count": 18,
   "metadata": {},
   "outputs": [],
   "source": [
    "# Split data into features and target, now with log transform\n",
    "# X = preprocessed_diamonds.drop(columns=['price', 'sqrt_price', 'log_price'])\n",
    "y = preprocessed_diamonds['log_price']\n",
    "\n",
    "initial_models_log = {\n",
    "    'lasso' : {\n",
    "        'model' : Lasso(),\n",
    "        'score' : []\n",
    "    },\n",
    "    'ridge' : {\n",
    "        'model' : Ridge(),\n",
    "        'score' : []\n",
    "    },\n",
    "    'rand_forest' : {\n",
    "        'model' : RandomForestRegressor(),\n",
    "        'score' : []\n",
    "    },\n",
    "    'ada' : {\n",
    "        'model' : AdaBoostRegressor(),\n",
    "        'score' : []\n",
    "    },\n",
    "    'gboost' : {\n",
    "        'model' : GradientBoostingRegressor(),\n",
    "        'score' : []\n",
    "    },\n",
    "    'knn' : {\n",
    "        'model' : KNeighborsRegressor(),\n",
    "        'score' : []\n",
    "    }\n",
    "}"
   ]
  },
  {
   "cell_type": "code",
   "execution_count": 19,
   "metadata": {},
   "outputs": [],
   "source": [
    "for model in initial_models_log:\n",
    "    kfold = KFold(n_splits=10)\n",
    "    regressor = initial_models_log[model]['model']\n",
    "    \n",
    "    results = cross_val_score(regressor, X, y, cv=kfold, n_jobs=-1)\n",
    "\n",
    "    initial_models_log[model]['score'].extend(results)"
   ]
  },
  {
   "cell_type": "code",
   "execution_count": 20,
   "metadata": {},
   "outputs": [
    {
     "name": "stdout",
     "output_type": "stream",
     "text": [
      "Model Name: lasso\n",
      "Average R^2 Score: -20.440559782941015\n",
      "----------------------------------------\n",
      "Model Name: ridge\n",
      "Average R^2 Score: -5.994353639211267\n",
      "----------------------------------------\n",
      "Model Name: rand_forest\n",
      "Average R^2 Score: -1.3462632789439313\n",
      "----------------------------------------\n",
      "Model Name: ada\n",
      "Average R^2 Score: -5.743253684801139\n",
      "----------------------------------------\n",
      "Model Name: gboost\n",
      "Average R^2 Score: -0.6781200447564958\n",
      "----------------------------------------\n",
      "Model Name: knn\n",
      "Average R^2 Score: -3.676155934675672\n",
      "----------------------------------------\n"
     ]
    }
   ],
   "source": [
    "for model in initial_models_log:\n",
    "    print(f'Model Name: {model}')\n",
    "    print(f'Average R^2 Score: {np.mean(initial_models_log[model][\"score\"])}')\n",
    "    print('----------------------------------------')"
   ]
  },
  {
   "cell_type": "markdown",
   "metadata": {},
   "source": [
    "Before giving up on regression, I will remove the outliers to see if that will affect the models, since large values are severely skewing the dataset."
   ]
  },
  {
   "cell_type": "code",
   "execution_count": 21,
   "metadata": {},
   "outputs": [
    {
     "name": "stdout",
     "output_type": "stream",
     "text": [
      "Model Name: lasso\n",
      "Average R^2 Score: -20.183705927754232\n",
      "----------------------------------------\n",
      "Model Name: ridge\n",
      "Average R^2 Score: -5.41324503681785\n",
      "----------------------------------------\n",
      "Model Name: rand_forest\n",
      "Average R^2 Score: -1.3699855083559205\n",
      "----------------------------------------\n",
      "Model Name: ada\n",
      "Average R^2 Score: -5.2050109522759\n",
      "----------------------------------------\n",
      "Model Name: gboost\n",
      "Average R^2 Score: -0.7333063938618101\n",
      "----------------------------------------\n",
      "Model Name: knn\n",
      "Average R^2 Score: -3.74068971724384\n",
      "----------------------------------------\n"
     ]
    }
   ],
   "source": [
    "no_outliers = preprocessed_diamonds.copy()\n",
    "no_outliers['zscore_price'] = (no_outliers['price'] - no_outliers['price'].mean()) / no_outliers['price'].std()\n",
    "OUTLIERS = no_outliers['zscore_price'] > 3.5\n",
    "\n",
    "X = no_outliers.loc[~OUTLIERS].drop(columns=['price', 'sqrt_price', 'log_price', 'zscore_price'])\n",
    "y = no_outliers.loc[~OUTLIERS, 'log_price']\n",
    "\n",
    "initial_models_log = {\n",
    "    'lasso' : {\n",
    "        'model' : Lasso(),\n",
    "        'score' : []\n",
    "    },\n",
    "    'ridge' : {\n",
    "        'model' : Ridge(),\n",
    "        'score' : []\n",
    "    },\n",
    "    'rand_forest' : {\n",
    "        'model' : RandomForestRegressor(),\n",
    "        'score' : []\n",
    "    },\n",
    "    'ada' : {\n",
    "        'model' : AdaBoostRegressor(),\n",
    "        'score' : []\n",
    "    },\n",
    "    'gboost' : {\n",
    "        'model' : GradientBoostingRegressor(),\n",
    "        'score' : []\n",
    "    },\n",
    "    'knn' : {\n",
    "        'model' : KNeighborsRegressor(),\n",
    "        'score' : []\n",
    "    }\n",
    "}\n",
    "\n",
    "for model in initial_models_log:\n",
    "    kfold = KFold(n_splits=10)\n",
    "    regressor = initial_models_log[model]['model']\n",
    "    \n",
    "    results = cross_val_score(regressor, X, y, cv=kfold, n_jobs=-1)\n",
    "\n",
    "    initial_models_log[model]['score'].extend(results)\n",
    "\n",
    "for model in initial_models_log:\n",
    "    print(f'Model Name: {model}')\n",
    "    print(f'Average R^2 Score: {np.mean(initial_models_log[model][\"score\"])}')\n",
    "    print('----------------------------------------')"
   ]
  },
  {
   "cell_type": "code",
   "execution_count": 22,
   "metadata": {},
   "outputs": [
    {
     "name": "stdout",
     "output_type": "stream",
     "text": [
      "Model Name: lasso\n",
      "Average R^2 Score: -20.367862690519527\n",
      "----------------------------------------\n",
      "Model Name: ridge\n",
      "Average R^2 Score: -5.34412947938272\n",
      "----------------------------------------\n",
      "Model Name: rand_forest\n",
      "Average R^2 Score: -1.3625372775028395\n",
      "----------------------------------------\n",
      "Model Name: ada\n",
      "Average R^2 Score: -4.880789436516105\n",
      "----------------------------------------\n",
      "Model Name: gboost\n",
      "Average R^2 Score: -0.6863557790179157\n",
      "----------------------------------------\n",
      "Model Name: knn\n",
      "Average R^2 Score: -3.7039741757624016\n",
      "----------------------------------------\n"
     ]
    }
   ],
   "source": [
    "OUTLIERS = no_outliers['carat'] > 5\n",
    "\n",
    "X = no_outliers.loc[~OUTLIERS].drop(columns=['price', 'sqrt_price', 'log_price', 'zscore_price'])\n",
    "y = no_outliers.loc[~OUTLIERS, 'log_price']\n",
    "\n",
    "initial_models_log = {\n",
    "    'lasso' : {\n",
    "        'model' : Lasso(),\n",
    "        'score' : []\n",
    "    },\n",
    "    'ridge' : {\n",
    "        'model' : Ridge(),\n",
    "        'score' : []\n",
    "    },\n",
    "    'rand_forest' : {\n",
    "        'model' : RandomForestRegressor(),\n",
    "        'score' : []\n",
    "    },\n",
    "    'ada' : {\n",
    "        'model' : AdaBoostRegressor(),\n",
    "        'score' : []\n",
    "    },\n",
    "    'gboost' : {\n",
    "        'model' : GradientBoostingRegressor(),\n",
    "        'score' : []\n",
    "    },\n",
    "    'knn' : {\n",
    "        'model' : KNeighborsRegressor(),\n",
    "        'score' : []\n",
    "    }\n",
    "}\n",
    "\n",
    "for model in initial_models_log:\n",
    "    kfold = KFold(n_splits=10)\n",
    "    regressor = initial_models_log[model]['model']\n",
    "    \n",
    "    results = cross_val_score(regressor, X, y, cv=kfold, n_jobs=-1)\n",
    "\n",
    "    initial_models_log[model]['score'].extend(results)\n",
    "\n",
    "for model in initial_models_log:\n",
    "    print(f'Model Name: {model}')\n",
    "    print(f'Average R^2 Score: {np.mean(initial_models_log[model][\"score\"])}')\n",
    "    print('----------------------------------------')"
   ]
  },
  {
   "cell_type": "markdown",
   "metadata": {},
   "source": [
    "Removing outliers based on price OR carats does not improve any of the models' $R^2$ scoring metric in any way. I think that I'll just start using the Gradient Boosting Regressor, since it had the only $R^2$ value that was even close to being positive."
   ]
  },
  {
   "cell_type": "code",
   "execution_count": 23,
   "metadata": {},
   "outputs": [
    {
     "data": {
      "image/png": "[encoded data removed]",
      "text/plain": [
       "<Figure size 720x432 with 1 Axes>"
      ]
     },
     "metadata": {
      "needs_background": "light"
     },
     "output_type": "display_data"
    }
   ],
   "source": [
    "correlations = preprocessed_diamonds.drop(columns=['sqrt_price', 'price']).corr()['log_price']\n",
    "\n",
    "fig, ax = plt.subplots(figsize=(10, 6))\n",
    "ax.bar(x=correlations.index, height=correlations, lw=1.2, edgecolor='black', color=sns.color_palette('muted'))\n",
    "for i in correlations.index:\n",
    "    ax.annotate(f'{correlations[i]:.02f}',\n",
    "                xy=(i, correlations[i] + (0.02 * ax.get_ylim()[1])),\n",
    "                fontweight='bold',\n",
    "                va='center',\n",
    "                ha='center')\n",
    "ax.tick_params(axis='x', rotation=45)\n",
    "ax.set_xlabel('Features')\n",
    "ax.set_ylabel('Correlation Coefficient')\n",
    "ax.set_title('Pearson Correlation of Features with Ln(Price)');"
   ]
  },
  {
   "cell_type": "code",
   "execution_count": 24,
   "metadata": {},
   "outputs": [
    {
     "data": {
      "text/plain": [
       "['carat',\n",
       " 'cut',\n",
       " 'color',\n",
       " 'shape_Cushion',\n",
       " 'shape_Marquise',\n",
       " 'shape_Pear',\n",
       " 'shape_Radiant']"
      ]
     },
     "execution_count": 24,
     "metadata": {},
     "output_type": "execute_result"
    }
   ],
   "source": [
    "selected_features = [feature for feature in correlations.index if (np.abs(correlations[feature]) >= 0.05) & (correlations[feature] < 1)]\n",
    "selected_features"
   ]
  },
  {
   "cell_type": "code",
   "execution_count": 25,
   "metadata": {},
   "outputs": [
    {
     "name": "stdout",
     "output_type": "stream",
     "text": [
      "Model Name: lasso\n",
      "Average R^2 Score: -20.440559782941015\n",
      "----------------------------------------\n",
      "Model Name: ridge\n",
      "Average R^2 Score: -6.285252883926916\n",
      "----------------------------------------\n",
      "Model Name: rand_forest\n",
      "Average R^2 Score: -9.5323165202889\n",
      "----------------------------------------\n",
      "Model Name: ada\n",
      "Average R^2 Score: -7.6983779863162365\n",
      "----------------------------------------\n",
      "Model Name: gboost\n",
      "Average R^2 Score: -7.356571992767252\n",
      "----------------------------------------\n",
      "Model Name: knn\n",
      "Average R^2 Score: -10.729799714922363\n",
      "----------------------------------------\n"
     ]
    }
   ],
   "source": [
    "X = preprocessed_diamonds[selected_features]\n",
    "y = preprocessed_diamonds['log_price']\n",
    "\n",
    "initial_models_log = {\n",
    "    'lasso' : {\n",
    "        'model' : Lasso(),\n",
    "        'score' : []\n",
    "    },\n",
    "    'ridge' : {\n",
    "        'model' : Ridge(),\n",
    "        'score' : []\n",
    "    },\n",
    "    'rand_forest' : {\n",
    "        'model' : RandomForestRegressor(),\n",
    "        'score' : []\n",
    "    },\n",
    "    'ada' : {\n",
    "        'model' : AdaBoostRegressor(),\n",
    "        'score' : []\n",
    "    },\n",
    "    'gboost' : {\n",
    "        'model' : GradientBoostingRegressor(),\n",
    "        'score' : []\n",
    "    },\n",
    "    'knn' : {\n",
    "        'model' : KNeighborsRegressor(),\n",
    "        'score' : []\n",
    "    }\n",
    "}\n",
    "\n",
    "\n",
    "for model in initial_models_log:\n",
    "    kfold = KFold(n_splits=10)\n",
    "    regressor = initial_models_log[model]['model']\n",
    "    \n",
    "    results = cross_val_score(regressor, X, y, cv=kfold, n_jobs=-1)\n",
    "\n",
    "    initial_models_log[model]['score'].extend(results)\n",
    "\n",
    "for model in initial_models_log:\n",
    "    print(f'Model Name: {model}')\n",
    "    print(f'Average R^2 Score: {np.mean(initial_models_log[model][\"score\"])}')\n",
    "    print('----------------------------------------')"
   ]
  },
  {
   "cell_type": "code",
   "execution_count": 26,
   "metadata": {},
   "outputs": [
    {
     "name": "stdout",
     "output_type": "stream",
     "text": [
      "Model Name: lasso\n",
      "Average R^2 Score: -20.440559782941015\n",
      "----------------------------------------\n",
      "Model Name: ridge\n",
      "Average R^2 Score: -6.041466643456806\n",
      "----------------------------------------\n",
      "Model Name: rand_forest\n",
      "Average R^2 Score: -1.3424948588457108\n",
      "----------------------------------------\n",
      "Model Name: ada\n",
      "Average R^2 Score: -5.683206468152657\n",
      "----------------------------------------\n",
      "Model Name: gboost\n",
      "Average R^2 Score: -0.6781571435483489\n",
      "----------------------------------------\n",
      "Model Name: knn\n",
      "Average R^2 Score: -4.654354747735066\n",
      "----------------------------------------\n"
     ]
    }
   ],
   "source": [
    "# Using Min-Max Scaler\n",
    "X = preprocessed_diamonds.drop(columns=['price', 'sqrt_price', 'log_price'])\n",
    "y = preprocessed_diamonds['log_price']\n",
    "\n",
    "initial_models_log = {\n",
    "    'lasso' : {\n",
    "        'model' : Lasso(),\n",
    "        'score' : []\n",
    "    },\n",
    "    'ridge' : {\n",
    "        'model' : Ridge(),\n",
    "        'score' : []\n",
    "    },\n",
    "    'rand_forest' : {\n",
    "        'model' : RandomForestRegressor(),\n",
    "        'score' : []\n",
    "    },\n",
    "    'ada' : {\n",
    "        'model' : AdaBoostRegressor(),\n",
    "        'score' : []\n",
    "    },\n",
    "    'gboost' : {\n",
    "        'model' : GradientBoostingRegressor(),\n",
    "        'score' : []\n",
    "    },\n",
    "    'knn' : {\n",
    "        'model' : KNeighborsRegressor(),\n",
    "        'score' : []\n",
    "    }\n",
    "}\n",
    "\n",
    "\n",
    "for model in initial_models_log:\n",
    "    kfold = KFold(n_splits=10)\n",
    "\n",
    "    pipeline = Pipeline(steps=[\n",
    "        ('scaler', MinMaxScaler()),\n",
    "        ('regressor', initial_models_log[model]['model'])\n",
    "    ])\n",
    "    \n",
    "    results = cross_val_score(pipeline, X, y, cv=kfold, n_jobs=-1)\n",
    "\n",
    "    initial_models_log[model]['score'].extend(results)\n",
    "\n",
    "for model in initial_models_log:\n",
    "    print(f'Model Name: {model}')\n",
    "    print(f'Average R^2 Score: {np.mean(initial_models_log[model][\"score\"])}')\n",
    "    print('----------------------------------------')"
   ]
  },
  {
   "cell_type": "code",
   "execution_count": 28,
   "metadata": {},
   "outputs": [
    {
     "name": "stdout",
     "output_type": "stream",
     "text": [
      "Model Name: lasso\n",
      "Average R^2 Score: -20.440559782941015\n",
      "----------------------------------------\n",
      "Model Name: ridge\n",
      "Average R^2 Score: -5.99432024735452\n",
      "----------------------------------------\n",
      "Model Name: rand_forest\n",
      "Average R^2 Score: -1.3330046280406425\n",
      "----------------------------------------\n",
      "Model Name: ada\n",
      "Average R^2 Score: -5.334601507805198\n",
      "----------------------------------------\n",
      "Model Name: gboost\n",
      "Average R^2 Score: -0.6781175175016859\n",
      "----------------------------------------\n",
      "Model Name: knn\n",
      "Average R^2 Score: -2.8465922806167936\n",
      "----------------------------------------\n"
     ]
    }
   ],
   "source": [
    "# Using Standard Scaler\n",
    "# Using Min-Max Scaler\n",
    "X = preprocessed_diamonds.drop(columns=['price', 'sqrt_price', 'log_price'])\n",
    "y = preprocessed_diamonds['log_price']\n",
    "\n",
    "initial_models_log = {\n",
    "    'lasso' : {\n",
    "        'model' : Lasso(),\n",
    "        'score' : []\n",
    "    },\n",
    "    'ridge' : {\n",
    "        'model' : Ridge(),\n",
    "        'score' : []\n",
    "    },\n",
    "    'rand_forest' : {\n",
    "        'model' : RandomForestRegressor(),\n",
    "        'score' : []\n",
    "    },\n",
    "    'ada' : {\n",
    "        'model' : AdaBoostRegressor(),\n",
    "        'score' : []\n",
    "    },\n",
    "    'gboost' : {\n",
    "        'model' : GradientBoostingRegressor(),\n",
    "        'score' : []\n",
    "    },\n",
    "    'knn' : {\n",
    "        'model' : KNeighborsRegressor(),\n",
    "        'score' : []\n",
    "    }\n",
    "}\n",
    "\n",
    "\n",
    "for model in initial_models_log:\n",
    "    kfold = KFold(n_splits=10)\n",
    "\n",
    "    pipeline = Pipeline(steps=[\n",
    "        ('scaler', StandardScaler()),\n",
    "        ('regressor', initial_models_log[model]['model'])\n",
    "    ])\n",
    "    \n",
    "    results = cross_val_score(pipeline, X, y, cv=kfold, n_jobs=-1)\n",
    "\n",
    "    initial_models_log[model]['score'].extend(results)\n",
    "\n",
    "for model in initial_models_log:\n",
    "    print(f'Model Name: {model}')\n",
    "    print(f'Average R^2 Score: {np.mean(initial_models_log[model][\"score\"])}')\n",
    "    print('----------------------------------------')"
   ]
  },
  {
   "cell_type": "code",
   "execution_count": 29,
   "metadata": {},
   "outputs": [
    {
     "name": "stdout",
     "output_type": "stream",
     "text": [
      "Model Name: lasso\n",
      "Average R^2 Score: -12.500595303335615\n",
      "----------------------------------------\n",
      "Model Name: ridge\n",
      "Average R^2 Score: -12.418462239483171\n",
      "----------------------------------------\n",
      "Model Name: rand_forest\n",
      "Average R^2 Score: -15.857578218112502\n",
      "----------------------------------------\n",
      "Model Name: ada\n",
      "Average R^2 Score: -27.591094314306012\n",
      "----------------------------------------\n",
      "Model Name: gboost\n",
      "Average R^2 Score: -13.896797778498135\n",
      "----------------------------------------\n",
      "Model Name: knn\n",
      "Average R^2 Score: -20.74192133205866\n",
      "----------------------------------------\n"
     ]
    }
   ],
   "source": [
    "preprocessed_diamonds['price_per_carat'] = preprocessed_diamonds['price'] / preprocessed_diamonds['carat']\n",
    "X = preprocessed_diamonds.drop(columns=['price', 'sqrt_price', 'log_price', 'carat', 'price_per_carat'])\n",
    "y = preprocessed_diamonds['price_per_carat']\n",
    "\n",
    "initial_models = {\n",
    "    'lasso' : {\n",
    "        'model' : Lasso(),\n",
    "        'score' : []\n",
    "    },\n",
    "    'ridge' : {\n",
    "        'model' : Ridge(),\n",
    "        'score' : []\n",
    "    },\n",
    "    'rand_forest' : {\n",
    "        'model' : RandomForestRegressor(),\n",
    "        'score' : []\n",
    "    },\n",
    "    'ada' : {\n",
    "        'model' : AdaBoostRegressor(),\n",
    "        'score' : []\n",
    "    },\n",
    "    'gboost' : {\n",
    "        'model' : GradientBoostingRegressor(),\n",
    "        'score' : []\n",
    "    },\n",
    "    'knn' : {\n",
    "        'model' : KNeighborsRegressor(),\n",
    "        'score' : []\n",
    "    }\n",
    "}\n",
    "\n",
    "\n",
    "for model in initial_models:\n",
    "    kfold = KFold(n_splits=10)\n",
    "\n",
    "    # pipeline = Pipeline(steps=[\n",
    "    #     ('scaler', StandardScaler()),\n",
    "    #     ('regressor', initial_models[model]['model'])\n",
    "    # ])\n",
    "    \n",
    "    regressor = initial_models[model]['model']\n",
    "\n",
    "    results = cross_val_score(regressor, X, y, cv=kfold, n_jobs=-1)\n",
    "\n",
    "    initial_models[model]['score'].extend(results)\n",
    "\n",
    "for model in initial_models:\n",
    "    print(f'Model Name: {model}')\n",
    "    print(f'Average R^2 Score: {np.mean(initial_models[model][\"score\"])}')\n",
    "    print('----------------------------------------')"
   ]
  },
  {
   "cell_type": "markdown",
   "metadata": {},
   "source": [
    "Regression seems to produce only futile results. No matter what model I use, what transformations, features, or even outlier removal methods I include, I can't break even a 0 $R^2$ value. I'm going to pivot to Classification instead."
   ]
  },
  {
   "cell_type": "markdown",
   "metadata": {},
   "source": [
    "## \"Shotgun\" Approach: Classification\n",
    "---\n"
   ]
  },
  {
   "cell_type": "code",
   "execution_count": 30,
   "metadata": {},
   "outputs": [
    {
     "name": "stdout",
     "output_type": "stream",
     "text": [
      "<class 'pandas.core.frame.DataFrame'>\n",
      "RangeIndex: 119307 entries, 0 to 119306\n",
      "Data columns (total 18 columns):\n",
      " #   Column          Non-Null Count   Dtype  \n",
      "---  ------          --------------   -----  \n",
      " 0   price           119307 non-null  int64  \n",
      " 1   carat           119307 non-null  float64\n",
      " 2   cut             119307 non-null  int64  \n",
      " 3   color           119307 non-null  int64  \n",
      " 4   clarity         119307 non-null  int64  \n",
      " 5   shape_Cushion   119307 non-null  int32  \n",
      " 6   shape_Emerald   119307 non-null  int32  \n",
      " 7   shape_Heart     119307 non-null  int32  \n",
      " 8   shape_Marquise  119307 non-null  int32  \n",
      " 9   shape_Oval      119307 non-null  int32  \n",
      " 10  shape_Pear      119307 non-null  int32  \n",
      " 11  shape_Princess  119307 non-null  int32  \n",
      " 12  shape_Radiant   119307 non-null  int32  \n",
      " 13  shape_Round     119307 non-null  int32  \n",
      " 14  report_GIA      119307 non-null  int32  \n",
      " 15  report_HRD      119307 non-null  int32  \n",
      " 16  report_IGI      119307 non-null  int32  \n",
      " 17  natural         119307 non-null  int64  \n",
      "dtypes: float64(1), int32(12), int64(5)\n",
      "memory usage: 10.9 MB\n"
     ]
    }
   ],
   "source": [
    "try:\n",
    "    preprocessed_diamonds.drop(columns=['sqrt_price', 'log_price', 'price_per_carat'], inplace=True)\n",
    "except:\n",
    "    print(\"Already dropped\")\n",
    "\n",
    "preprocessed_diamonds.info()"
   ]
  },
  {
   "cell_type": "code",
   "execution_count": 31,
   "metadata": {},
   "outputs": [
    {
     "data": {
      "text/plain": [
       "count    1.193070e+05\n",
       "mean     3.286843e+03\n",
       "std      9.114695e+03\n",
       "min      2.700000e+02\n",
       "25%      9.000000e+02\n",
       "50%      1.770000e+03\n",
       "75%      3.490000e+03\n",
       "max      1.348720e+06\n",
       "Name: price, dtype: float64"
      ]
     },
     "execution_count": 31,
     "metadata": {},
     "output_type": "execute_result"
    }
   ],
   "source": [
    "preprocessed_diamonds['price'].describe()"
   ]
  },
  {
   "cell_type": "code",
   "execution_count": 32,
   "metadata": {},
   "outputs": [],
   "source": [
    "# First, create a price classification column\n",
    "def price_classifier(price):\n",
    "    \"\"\"\n",
    "    Creates classes based off of the following criteria:\n",
    "    0 - Affordable\n",
    "    1 - Moderately Affordable\n",
    "    2 - Moderately Expensive\n",
    "    3 - Expensive\n",
    "    4 - Very Expensive\n",
    "    \"\"\"\n",
    "    if 0 < price < 1000:\n",
    "        return 0\n",
    "    elif 1000 <= price < 3000:\n",
    "        return 1\n",
    "    elif 3000 <= price < 7000:\n",
    "        return 2\n",
    "    elif 7000 <= price < 15000:\n",
    "        return 3\n",
    "    else:\n",
    "        return 4"
   ]
  },
  {
   "cell_type": "code",
   "execution_count": 33,
   "metadata": {},
   "outputs": [],
   "source": [
    "preprocessed_diamonds['price_point'] = preprocessed_diamonds['price'].map(price_classifier)"
   ]
  },
  {
   "cell_type": "code",
   "execution_count": 63,
   "metadata": {},
   "outputs": [
    {
     "data": {
      "image/png": "[encoded data removed]",
      "text/plain": [
       "<Figure size 720x432 with 1 Axes>"
      ]
     },
     "metadata": {},
     "output_type": "display_data"
    }
   ],
   "source": [
    "fig, ax = plt.subplots(figsize=(10, 6))\n",
    "class_counts = preprocessed_diamonds['price_point'].value_counts()\n",
    "labels = ['Affordable', 'Moderately Affordable', 'Moderately Expensive', 'Expensive', 'Very Expensive']\n",
    "\n",
    "ax.bar(x=class_counts.index, height=class_counts, lw=1.2, edgecolor='black', color=sns.color_palette('muted'))\n",
    "for i in class_counts.index:\n",
    "    ax.annotate(f'{class_counts[i]:,.0f}',\n",
    "                xy=(i, class_counts[i] + (0.02 * ax.get_ylim()[1])),\n",
    "                fontweight='bold',\n",
    "                va='center',\n",
    "                ha='center')\n",
    "ax.yaxis.set_major_formatter(FuncFormatter(lambda y, _:f'{y:,.0f}'))\n",
    "ax.set_xticks(class_counts.index, labels=labels)\n",
    "ax.tick_params(axis='x', rotation=45)\n",
    "ax.set_xlabel('Class')\n",
    "ax.set_ylabel('Count')\n",
    "ax.set_title('Class Counts');"
   ]
  },
  {
   "cell_type": "markdown",
   "metadata": {},
   "source": [
    "The counts for each class show that there is definitely an imbalance. This is worth keeping in mind for later when tuning models."
   ]
  },
  {
   "cell_type": "code",
   "execution_count": 35,
   "metadata": {},
   "outputs": [
    {
     "data": {
      "text/plain": [
       "Index(['price', 'carat', 'cut', 'color', 'clarity', 'shape_Cushion',\n",
       "       'shape_Emerald', 'shape_Heart', 'shape_Marquise', 'shape_Oval',\n",
       "       'shape_Pear', 'shape_Princess', 'shape_Radiant', 'shape_Round',\n",
       "       'report_GIA', 'report_HRD', 'report_IGI', 'natural', 'price_point'],\n",
       "      dtype='object')"
      ]
     },
     "execution_count": 35,
     "metadata": {},
     "output_type": "execute_result"
    }
   ],
   "source": [
    "preprocessed_diamonds.columns"
   ]
  },
  {
   "cell_type": "code",
   "execution_count": 36,
   "metadata": {},
   "outputs": [],
   "source": [
    "X = preprocessed_diamonds.drop(columns=['price', 'price_point'])\n",
    "y = preprocessed_diamonds['price_point']"
   ]
  },
  {
   "cell_type": "code",
   "execution_count": 37,
   "metadata": {},
   "outputs": [],
   "source": [
    "initial_models = {\n",
    "    'logreg' : {\n",
    "        'model' : LogisticRegression(),\n",
    "        'score' : []\n",
    "    },\n",
    "    'dt' : {\n",
    "        'model' : DecisionTreeClassifier(),\n",
    "        'score' : []\n",
    "    },\n",
    "    'rand_forest' : {\n",
    "        'model' : RandomForestClassifier(),\n",
    "        'score' : []\n",
    "    },\n",
    "    'ada' : {\n",
    "        'model' : AdaBoostClassifier(),\n",
    "        'score' : []\n",
    "    },\n",
    "    'gboost' : {\n",
    "        'model' : GradientBoostingClassifier(),\n",
    "        'score' : []\n",
    "    },\n",
    "    'knn' : {\n",
    "        'model' : KNeighborsClassifier(),\n",
    "        'score' : []\n",
    "    },\n",
    "    'svm' : {\n",
    "        'model' : SVC(),\n",
    "        'score' : []\n",
    "    }\n",
    "}\n",
    "\n",
    "for model in initial_models:\n",
    "    kfold = StratifiedKFold(n_splits=10)\n",
    "    regressor = initial_models[model]['model']\n",
    "    \n",
    "    results = cross_val_score(regressor, X, y, cv=kfold, n_jobs=-1)\n",
    "\n",
    "    initial_models[model]['score'].extend(results)"
   ]
  },
  {
   "cell_type": "code",
   "execution_count": 38,
   "metadata": {},
   "outputs": [
    {
     "name": "stdout",
     "output_type": "stream",
     "text": [
      "Model Name: logreg\n",
      "Average Accuracy Score: 0.7930383625938557\n",
      "----------------------------------------\n",
      "Model Name: dt\n",
      "Average Accuracy Score: 0.8281986327783188\n",
      "----------------------------------------\n",
      "Model Name: rand_forest\n",
      "Average Accuracy Score: 0.8307978911712451\n",
      "----------------------------------------\n",
      "Model Name: ada\n",
      "Average Accuracy Score: 0.6036872831859471\n",
      "----------------------------------------\n",
      "Model Name: gboost\n",
      "Average Accuracy Score: 0.8148648750994383\n",
      "----------------------------------------\n",
      "Model Name: knn\n",
      "Average Accuracy Score: 0.7832068038890567\n",
      "----------------------------------------\n",
      "Model Name: svm\n",
      "Average Accuracy Score: 0.82965816788248\n",
      "----------------------------------------\n"
     ]
    }
   ],
   "source": [
    "for model in initial_models:\n",
    "    print(f'Model Name: {model}')\n",
    "    print(f'Average Accuracy Score: {np.mean(initial_models[model][\"score\"])}')\n",
    "    print('----------------------------------------')"
   ]
  },
  {
   "cell_type": "markdown",
   "metadata": {},
   "source": [
    "The best model here from just an initial look at the average accuracy score is the Random Forest Classifier."
   ]
  },
  {
   "cell_type": "markdown",
   "metadata": {},
   "source": [
    "## Tuning"
   ]
  },
  {
   "cell_type": "code",
   "execution_count": 39,
   "metadata": {},
   "outputs": [
    {
     "name": "stdout",
     "output_type": "stream",
     "text": [
      "Base Classifier Accuracy: 0.9344145503310703\n"
     ]
    },
    {
     "data": {
      "image/png": "[encoded data removed]",
      "text/plain": [
       "<Figure size 720x432 with 1 Axes>"
      ]
     },
     "metadata": {
      "needs_background": "light"
     },
     "output_type": "display_data"
    }
   ],
   "source": [
    "# Look at feature importances\n",
    "X = preprocessed_diamonds.drop(columns=['price', 'price_point'])\n",
    "y = preprocessed_diamonds['price_point']\n",
    "X_train, X_test, y_train, y_test = train_test_split(X, y,\n",
    "                                                    test_size=0.2,\n",
    "                                                    random_state=42,\n",
    "                                                    stratify=y)\n",
    "\n",
    "\n",
    "rand_forest = RandomForestClassifier()\n",
    "\n",
    "rand_forest.fit(X_train, y_train)\n",
    "\n",
    "feature_importances = rand_forest.feature_importances_\n",
    "feature_names = X.columns\n",
    "fig, ax = plt.subplots(figsize=(10, 6))\n",
    "ax.bar(x=feature_names, height=feature_importances, lw=1.2, edgecolor='black', color=sns.color_palette('muted'))\n",
    "for i, name in enumerate(feature_names):\n",
    "    ax.annotate(f'{feature_importances[i]:.02f}',\n",
    "                xy=(i, feature_importances[i] + (0.02 * ax.get_ylim()[1])),\n",
    "                fontweight='bold',\n",
    "                va='center',\n",
    "                ha='center')\n",
    "ax.tick_params(axis='x', rotation=90)\n",
    "ax.set_xlabel('Features')\n",
    "ax.set_ylabel('Coefficient')\n",
    "ax.set_title('Random Forest Feature Importances');\n",
    "\n",
    "print(f'Base Classifier Accuracy: {rand_forest.score(X_test, y_test)}')"
   ]
  },
  {
   "cell_type": "markdown",
   "metadata": {},
   "source": [
    "To cut down on the number of features used in the model, we will only use the features with importances greater than 0.01."
   ]
  },
  {
   "cell_type": "code",
   "execution_count": 40,
   "metadata": {},
   "outputs": [],
   "source": [
    "features = ['carat', 'cut', 'color', 'clarity', 'natural', 'report_GIA']"
   ]
  },
  {
   "cell_type": "code",
   "execution_count": 41,
   "metadata": {},
   "outputs": [],
   "source": [
    "X = preprocessed_diamonds[features]\n",
    "y = preprocessed_diamonds['price_point']\n",
    "\n",
    "pipeline = Pipeline(steps=[\n",
    "    ('scaler', MinMaxScaler()),\n",
    "    ('rand_forest', RandomForestClassifier())\n",
    "]\n",
    ")\n",
    "\n",
    "kfold = StratifiedKFold(n_splits=10)\n",
    "\n",
    "results = cross_val_score(pipeline, X, y, cv=kfold, n_jobs=-1, scoring='accuracy')"
   ]
  },
  {
   "cell_type": "code",
   "execution_count": 42,
   "metadata": {},
   "outputs": [
    {
     "name": "stdout",
     "output_type": "stream",
     "text": [
      "Average Accuracy Score: 0.8193905034979352\n"
     ]
    }
   ],
   "source": [
    "print(f'Average Accuracy Score: {np.mean(results)}')"
   ]
  },
  {
   "cell_type": "code",
   "execution_count": 43,
   "metadata": {},
   "outputs": [],
   "source": [
    "pipeline = Pipeline(steps=[\n",
    "    ('scaler', StandardScaler()),\n",
    "    ('rand_forest', RandomForestClassifier())\n",
    "]\n",
    ")\n",
    "\n",
    "kfold = StratifiedKFold(n_splits=10)\n",
    "\n",
    "results = cross_val_score(pipeline, X, y, cv=kfold, n_jobs=-1, scoring='accuracy')"
   ]
  },
  {
   "cell_type": "code",
   "execution_count": 44,
   "metadata": {},
   "outputs": [
    {
     "name": "stdout",
     "output_type": "stream",
     "text": [
      "Average Accuracy Score: 0.8197006839340176\n"
     ]
    }
   ],
   "source": [
    "print(f'Average Accuracy Score: {np.mean(results)}')"
   ]
  },
  {
   "cell_type": "code",
   "execution_count": 45,
   "metadata": {},
   "outputs": [
    {
     "name": "stdout",
     "output_type": "stream",
     "text": [
      "Average Accuracy Score: 0.8195582281831062\n"
     ]
    }
   ],
   "source": [
    "results = cross_val_score(RandomForestClassifier(), X, y, cv=kfold, n_jobs=-1, scoring='accuracy')\n",
    "print(f'Average Accuracy Score: {np.mean(results)}')"
   ]
  },
  {
   "cell_type": "markdown",
   "metadata": {},
   "source": [
    "Scaling seems to only produce a negligible difference in the average accuracy score of the model. Therefore, we will not be scaling our data."
   ]
  },
  {
   "cell_type": "code",
   "execution_count": 46,
   "metadata": {},
   "outputs": [],
   "source": [
    "param_grid = {\n",
    "    'n_estimators' : [10, 50, 100, 150, 200, 250, 300, 350, 400, 450, 500],\n",
    "    'criterion' : ['gini', 'entropy', 'log_loss'],\n",
    "    'max_depth' : [100, 150, 200, 300, 400, 500, 600, 700, 1000],\n",
    "    'min_samples_split' : [2, 5, 10, 15, 20, 25],\n",
    "    'min_samples_leaf' : [1, 2, 5, 10, 15]\n",
    "}\n",
    "\n",
    "kfold = StratifiedKFold(n_splits=10)\n",
    "rand_forest = RandomForestClassifier()\n",
    "\n",
    "random_search = RandomizedSearchCV(estimator=rand_forest,\n",
    "                                   param_distributions=param_grid,\n",
    "                                   cv=kfold,\n",
    "                                   n_iter=6,\n",
    "                                   n_jobs=-1,\n",
    "                                   scoring='accuracy',\n",
    "                                   random_state=10)"
   ]
  },
  {
   "cell_type": "code",
   "execution_count": 47,
   "metadata": {},
   "outputs": [
    {
     "data": {
      "text/html": [
       "<style>#sk-container-id-1 {color: black;}#sk-container-id-1 pre{padding: 0;}#sk-container-id-1 div.sk-toggleable {background-color: white;}#sk-container-id-1 label.sk-toggleable__label {cursor: pointer;display: block;width: 100%;margin-bottom: 0;padding: 0.3em;box-sizing: border-box;text-align: center;}#sk-container-id-1 label.sk-toggleable__label-arrow:before {content: \"▸\";float: left;margin-right: 0.25em;color: #696969;}#sk-container-id-1 label.sk-toggleable__label-arrow:hover:before {color: black;}#sk-container-id-1 div.sk-estimator:hover label.sk-toggleable__label-arrow:before {color: black;}#sk-container-id-1 div.sk-toggleable__content {max-height: 0;max-width: 0;overflow: hidden;text-align: left;background-color: #f0f8ff;}#sk-container-id-1 div.sk-toggleable__content pre {margin: 0.2em;color: black;border-radius: 0.25em;background-color: #f0f8ff;}#sk-container-id-1 input.sk-toggleable__control:checked~div.sk-toggleable__content {max-height: 200px;max-width: 100%;overflow: auto;}#sk-container-id-1 input.sk-toggleable__control:checked~label.sk-toggleable__label-arrow:before {content: \"▾\";}#sk-container-id-1 div.sk-estimator input.sk-toggleable__control:checked~label.sk-toggleable__label {background-color: #d4ebff;}#sk-container-id-1 div.sk-label input.sk-toggleable__control:checked~label.sk-toggleable__label {background-color: #d4ebff;}#sk-container-id-1 input.sk-hidden--visually {border: 0;clip: rect(1px 1px 1px 1px);clip: rect(1px, 1px, 1px, 1px);height: 1px;margin: -1px;overflow: hidden;padding: 0;position: absolute;width: 1px;}#sk-container-id-1 div.sk-estimator {font-family: monospace;background-color: #f0f8ff;border: 1px dotted black;border-radius: 0.25em;box-sizing: border-box;margin-bottom: 0.5em;}#sk-container-id-1 div.sk-estimator:hover {background-color: #d4ebff;}#sk-container-id-1 div.sk-parallel-item::after {content: \"\";width: 100%;border-bottom: 1px solid gray;flex-grow: 1;}#sk-container-id-1 div.sk-label:hover label.sk-toggleable__label {background-color: #d4ebff;}#sk-container-id-1 div.sk-serial::before {content: \"\";position: absolute;border-left: 1px solid gray;box-sizing: border-box;top: 0;bottom: 0;left: 50%;z-index: 0;}#sk-container-id-1 div.sk-serial {display: flex;flex-direction: column;align-items: center;background-color: white;padding-right: 0.2em;padding-left: 0.2em;position: relative;}#sk-container-id-1 div.sk-item {position: relative;z-index: 1;}#sk-container-id-1 div.sk-parallel {display: flex;align-items: stretch;justify-content: center;background-color: white;position: relative;}#sk-container-id-1 div.sk-item::before, #sk-container-id-1 div.sk-parallel-item::before {content: \"\";position: absolute;border-left: 1px solid gray;box-sizing: border-box;top: 0;bottom: 0;left: 50%;z-index: -1;}#sk-container-id-1 div.sk-parallel-item {display: flex;flex-direction: column;z-index: 1;position: relative;background-color: white;}#sk-container-id-1 div.sk-parallel-item:first-child::after {align-self: flex-end;width: 50%;}#sk-container-id-1 div.sk-parallel-item:last-child::after {align-self: flex-start;width: 50%;}#sk-container-id-1 div.sk-parallel-item:only-child::after {width: 0;}#sk-container-id-1 div.sk-dashed-wrapped {border: 1px dashed gray;margin: 0 0.4em 0.5em 0.4em;box-sizing: border-box;padding-bottom: 0.4em;background-color: white;}#sk-container-id-1 div.sk-label label {font-family: monospace;font-weight: bold;display: inline-block;line-height: 1.2em;}#sk-container-id-1 div.sk-label-container {text-align: center;}#sk-container-id-1 div.sk-container {/* jupyter's `normalize.less` sets `[hidden] { display: none; }` but bootstrap.min.css set `[hidden] { display: none !important; }` so we also need the `!important` here to be able to override the default hidden behavior on the sphinx rendered scikit-learn.org. See: https://github.com/scikit-learn/scikit-learn/issues/21755 */display: inline-block !important;position: relative;}#sk-container-id-1 div.sk-text-repr-fallback {display: none;}</style><div id=\"sk-container-id-1\" class=\"sk-top-container\"><div class=\"sk-text-repr-fallback\"><pre>RandomizedSearchCV(cv=StratifiedKFold(n_splits=10, random_state=None, shuffle=False),\n",
       "                   estimator=RandomForestClassifier(), n_iter=6, n_jobs=-1,\n",
       "                   param_distributions={&#x27;criterion&#x27;: [&#x27;gini&#x27;, &#x27;entropy&#x27;,\n",
       "                                                      &#x27;log_loss&#x27;],\n",
       "                                        &#x27;max_depth&#x27;: [100, 150, 200, 300, 400,\n",
       "                                                      500, 600, 700, 1000],\n",
       "                                        &#x27;min_samples_leaf&#x27;: [1, 2, 5, 10, 15],\n",
       "                                        &#x27;min_samples_split&#x27;: [2, 5, 10, 15, 20,\n",
       "                                                              25],\n",
       "                                        &#x27;n_estimators&#x27;: [10, 50, 100, 150, 200,\n",
       "                                                         250, 300, 350, 400,\n",
       "                                                         450, 500]},\n",
       "                   random_state=10, scoring=&#x27;accuracy&#x27;)</pre><b>In a Jupyter environment, please rerun this cell to show the HTML representation or trust the notebook. <br />On GitHub, the HTML representation is unable to render, please try loading this page with nbviewer.org.</b></div><div class=\"sk-container\" hidden><div class=\"sk-item sk-dashed-wrapped\"><div class=\"sk-label-container\"><div class=\"sk-label sk-toggleable\"><input class=\"sk-toggleable__control sk-hidden--visually\" id=\"sk-estimator-id-1\" type=\"checkbox\" ><label for=\"sk-estimator-id-1\" class=\"sk-toggleable__label sk-toggleable__label-arrow\">RandomizedSearchCV</label><div class=\"sk-toggleable__content\"><pre>RandomizedSearchCV(cv=StratifiedKFold(n_splits=10, random_state=None, shuffle=False),\n",
       "                   estimator=RandomForestClassifier(), n_iter=6, n_jobs=-1,\n",
       "                   param_distributions={&#x27;criterion&#x27;: [&#x27;gini&#x27;, &#x27;entropy&#x27;,\n",
       "                                                      &#x27;log_loss&#x27;],\n",
       "                                        &#x27;max_depth&#x27;: [100, 150, 200, 300, 400,\n",
       "                                                      500, 600, 700, 1000],\n",
       "                                        &#x27;min_samples_leaf&#x27;: [1, 2, 5, 10, 15],\n",
       "                                        &#x27;min_samples_split&#x27;: [2, 5, 10, 15, 20,\n",
       "                                                              25],\n",
       "                                        &#x27;n_estimators&#x27;: [10, 50, 100, 150, 200,\n",
       "                                                         250, 300, 350, 400,\n",
       "                                                         450, 500]},\n",
       "                   random_state=10, scoring=&#x27;accuracy&#x27;)</pre></div></div></div><div class=\"sk-parallel\"><div class=\"sk-parallel-item\"><div class=\"sk-item\"><div class=\"sk-label-container\"><div class=\"sk-label sk-toggleable\"><input class=\"sk-toggleable__control sk-hidden--visually\" id=\"sk-estimator-id-2\" type=\"checkbox\" ><label for=\"sk-estimator-id-2\" class=\"sk-toggleable__label sk-toggleable__label-arrow\">estimator: RandomForestClassifier</label><div class=\"sk-toggleable__content\"><pre>RandomForestClassifier()</pre></div></div></div><div class=\"sk-serial\"><div class=\"sk-item\"><div class=\"sk-estimator sk-toggleable\"><input class=\"sk-toggleable__control sk-hidden--visually\" id=\"sk-estimator-id-3\" type=\"checkbox\" ><label for=\"sk-estimator-id-3\" class=\"sk-toggleable__label sk-toggleable__label-arrow\">RandomForestClassifier</label><div class=\"sk-toggleable__content\"><pre>RandomForestClassifier()</pre></div></div></div></div></div></div></div></div></div></div>"
      ],
      "text/plain": [
       "RandomizedSearchCV(cv=StratifiedKFold(n_splits=10, random_state=None, shuffle=False),\n",
       "                   estimator=RandomForestClassifier(), n_iter=6, n_jobs=-1,\n",
       "                   param_distributions={'criterion': ['gini', 'entropy',\n",
       "                                                      'log_loss'],\n",
       "                                        'max_depth': [100, 150, 200, 300, 400,\n",
       "                                                      500, 600, 700, 1000],\n",
       "                                        'min_samples_leaf': [1, 2, 5, 10, 15],\n",
       "                                        'min_samples_split': [2, 5, 10, 15, 20,\n",
       "                                                              25],\n",
       "                                        'n_estimators': [10, 50, 100, 150, 200,\n",
       "                                                         250, 300, 350, 400,\n",
       "                                                         450, 500]},\n",
       "                   random_state=10, scoring='accuracy')"
      ]
     },
     "execution_count": 47,
     "metadata": {},
     "output_type": "execute_result"
    }
   ],
   "source": [
    "random_search.fit(X, y)"
   ]
  },
  {
   "cell_type": "code",
   "execution_count": 48,
   "metadata": {},
   "outputs": [
    {
     "data": {
      "text/html": [
       "<style>#sk-container-id-2 {color: black;}#sk-container-id-2 pre{padding: 0;}#sk-container-id-2 div.sk-toggleable {background-color: white;}#sk-container-id-2 label.sk-toggleable__label {cursor: pointer;display: block;width: 100%;margin-bottom: 0;padding: 0.3em;box-sizing: border-box;text-align: center;}#sk-container-id-2 label.sk-toggleable__label-arrow:before {content: \"▸\";float: left;margin-right: 0.25em;color: #696969;}#sk-container-id-2 label.sk-toggleable__label-arrow:hover:before {color: black;}#sk-container-id-2 div.sk-estimator:hover label.sk-toggleable__label-arrow:before {color: black;}#sk-container-id-2 div.sk-toggleable__content {max-height: 0;max-width: 0;overflow: hidden;text-align: left;background-color: #f0f8ff;}#sk-container-id-2 div.sk-toggleable__content pre {margin: 0.2em;color: black;border-radius: 0.25em;background-color: #f0f8ff;}#sk-container-id-2 input.sk-toggleable__control:checked~div.sk-toggleable__content {max-height: 200px;max-width: 100%;overflow: auto;}#sk-container-id-2 input.sk-toggleable__control:checked~label.sk-toggleable__label-arrow:before {content: \"▾\";}#sk-container-id-2 div.sk-estimator input.sk-toggleable__control:checked~label.sk-toggleable__label {background-color: #d4ebff;}#sk-container-id-2 div.sk-label input.sk-toggleable__control:checked~label.sk-toggleable__label {background-color: #d4ebff;}#sk-container-id-2 input.sk-hidden--visually {border: 0;clip: rect(1px 1px 1px 1px);clip: rect(1px, 1px, 1px, 1px);height: 1px;margin: -1px;overflow: hidden;padding: 0;position: absolute;width: 1px;}#sk-container-id-2 div.sk-estimator {font-family: monospace;background-color: #f0f8ff;border: 1px dotted black;border-radius: 0.25em;box-sizing: border-box;margin-bottom: 0.5em;}#sk-container-id-2 div.sk-estimator:hover {background-color: #d4ebff;}#sk-container-id-2 div.sk-parallel-item::after {content: \"\";width: 100%;border-bottom: 1px solid gray;flex-grow: 1;}#sk-container-id-2 div.sk-label:hover label.sk-toggleable__label {background-color: #d4ebff;}#sk-container-id-2 div.sk-serial::before {content: \"\";position: absolute;border-left: 1px solid gray;box-sizing: border-box;top: 0;bottom: 0;left: 50%;z-index: 0;}#sk-container-id-2 div.sk-serial {display: flex;flex-direction: column;align-items: center;background-color: white;padding-right: 0.2em;padding-left: 0.2em;position: relative;}#sk-container-id-2 div.sk-item {position: relative;z-index: 1;}#sk-container-id-2 div.sk-parallel {display: flex;align-items: stretch;justify-content: center;background-color: white;position: relative;}#sk-container-id-2 div.sk-item::before, #sk-container-id-2 div.sk-parallel-item::before {content: \"\";position: absolute;border-left: 1px solid gray;box-sizing: border-box;top: 0;bottom: 0;left: 50%;z-index: -1;}#sk-container-id-2 div.sk-parallel-item {display: flex;flex-direction: column;z-index: 1;position: relative;background-color: white;}#sk-container-id-2 div.sk-parallel-item:first-child::after {align-self: flex-end;width: 50%;}#sk-container-id-2 div.sk-parallel-item:last-child::after {align-self: flex-start;width: 50%;}#sk-container-id-2 div.sk-parallel-item:only-child::after {width: 0;}#sk-container-id-2 div.sk-dashed-wrapped {border: 1px dashed gray;margin: 0 0.4em 0.5em 0.4em;box-sizing: border-box;padding-bottom: 0.4em;background-color: white;}#sk-container-id-2 div.sk-label label {font-family: monospace;font-weight: bold;display: inline-block;line-height: 1.2em;}#sk-container-id-2 div.sk-label-container {text-align: center;}#sk-container-id-2 div.sk-container {/* jupyter's `normalize.less` sets `[hidden] { display: none; }` but bootstrap.min.css set `[hidden] { display: none !important; }` so we also need the `!important` here to be able to override the default hidden behavior on the sphinx rendered scikit-learn.org. See: https://github.com/scikit-learn/scikit-learn/issues/21755 */display: inline-block !important;position: relative;}#sk-container-id-2 div.sk-text-repr-fallback {display: none;}</style><div id=\"sk-container-id-2\" class=\"sk-top-container\"><div class=\"sk-text-repr-fallback\"><pre>RandomForestClassifier(criterion=&#x27;log_loss&#x27;, max_depth=400,\n",
       "                       min_samples_split=10, n_estimators=450)</pre><b>In a Jupyter environment, please rerun this cell to show the HTML representation or trust the notebook. <br />On GitHub, the HTML representation is unable to render, please try loading this page with nbviewer.org.</b></div><div class=\"sk-container\" hidden><div class=\"sk-item\"><div class=\"sk-estimator sk-toggleable\"><input class=\"sk-toggleable__control sk-hidden--visually\" id=\"sk-estimator-id-4\" type=\"checkbox\" checked><label for=\"sk-estimator-id-4\" class=\"sk-toggleable__label sk-toggleable__label-arrow\">RandomForestClassifier</label><div class=\"sk-toggleable__content\"><pre>RandomForestClassifier(criterion=&#x27;log_loss&#x27;, max_depth=400,\n",
       "                       min_samples_split=10, n_estimators=450)</pre></div></div></div></div></div>"
      ],
      "text/plain": [
       "RandomForestClassifier(criterion='log_loss', max_depth=400,\n",
       "                       min_samples_split=10, n_estimators=450)"
      ]
     },
     "execution_count": 48,
     "metadata": {},
     "output_type": "execute_result"
    }
   ],
   "source": [
    "random_search.best_estimator_"
   ]
  },
  {
   "cell_type": "code",
   "execution_count": 49,
   "metadata": {},
   "outputs": [
    {
     "data": {
      "text/plain": [
       "0.8266574357458994"
      ]
     },
     "execution_count": 49,
     "metadata": {},
     "output_type": "execute_result"
    }
   ],
   "source": [
    "random_search.best_score_"
   ]
  },
  {
   "cell_type": "code",
   "execution_count": 54,
   "metadata": {},
   "outputs": [],
   "source": [
    "# Trying to rebalance the classes using SMOTE\n",
    "# First, by oversampling the minority classes\n",
    "over = SMOTE(sampling_strategy='auto')\n",
    "under = RandomUnderSampler(sampling_strategy='auto')\n",
    "model = RandomForestClassifier(criterion='log_loss', max_depth=400, min_samples_split=15, n_estimators=10)\n",
    "\n",
    "steps = [('over', over), ('under', under), ('model', model)]\n",
    "\n",
    "pipeline = imb_pipe(steps=steps)"
   ]
  },
  {
   "cell_type": "code",
   "execution_count": 56,
   "metadata": {},
   "outputs": [],
   "source": [
    "# Evaluate pipeline\n",
    "cv = RepeatedStratifiedKFold(n_splits=10, n_repeats=3, random_state=42)\n",
    "\n",
    "scores = cross_val_score(pipeline, X, y, scoring='accuracy', cv=cv, n_jobs=-1)"
   ]
  },
  {
   "cell_type": "code",
   "execution_count": 58,
   "metadata": {},
   "outputs": [
    {
     "name": "stdout",
     "output_type": "stream",
     "text": [
      "Average Accuracy Score: 0.9141458674703754\n"
     ]
    }
   ],
   "source": [
    "print(f'Average Accuracy Score: {np.mean(scores)}')"
   ]
  },
  {
   "cell_type": "code",
   "execution_count": 84,
   "metadata": {},
   "outputs": [
    {
     "data": {
      "text/plain": [
       "price_point\n",
       "1    50129\n",
       "0    34253\n",
       "2    23830\n",
       "3     7992\n",
       "4     3103\n",
       "Name: count, dtype: int64"
      ]
     },
     "execution_count": 84,
     "metadata": {},
     "output_type": "execute_result"
    }
   ],
   "source": [
    "X_plot = preprocessed_diamonds[['carat', 'price']]\n",
    "y_plot = preprocessed_diamonds['price_point']\n",
    "\n",
    "y_plot.value_counts()"
   ]
  },
  {
   "cell_type": "code",
   "execution_count": 85,
   "metadata": {},
   "outputs": [],
   "source": [
    "over = SMOTE(sampling_strategy='auto')\n",
    "\n",
    "steps = [('over', over)]\n",
    "\n",
    "test_pipe = imb_pipe(steps=steps)\n",
    "\n",
    "X_resamp, y_resamp = test_pipe.fit_resample(X_plot, y_plot)"
   ]
  },
  {
   "cell_type": "code",
   "execution_count": 86,
   "metadata": {},
   "outputs": [
    {
     "data": {
      "image/png": "[encoded data removed]",
      "text/plain": [
       "<Figure size 1296x432 with 2 Axes>"
      ]
     },
     "metadata": {},
     "output_type": "display_data"
    }
   ],
   "source": [
    "before_resamp = y_plot\n",
    "after_resamp = y_resamp\n",
    "\n",
    "fig, axes = plt.subplots(1, 2, figsize=(18, 6))\n",
    "for n, data in enumerate([before_resamp, after_resamp]):\n",
    "    ax = axes[n]\n",
    "    class_counts = data.value_counts()\n",
    "    labels = ['Affordable', 'Moderately Affordable', 'Moderately Expensive', 'Expensive', 'Very Expensive']\n",
    "\n",
    "    ax.bar(x=class_counts.index, height=class_counts, lw=1.2, edgecolor='black', color=sns.color_palette('muted'))\n",
    "    for i in class_counts.index:\n",
    "        ax.annotate(f'{class_counts[i]:,.0f}',\n",
    "                    xy=(i, class_counts[i] + (0.02 * ax.get_ylim()[1])),\n",
    "                    fontweight='bold',\n",
    "                    va='center',\n",
    "                    ha='center')\n",
    "    ax.yaxis.set_major_formatter(FuncFormatter(lambda y, _:f'{y:,.0f}'))\n",
    "    ax.set_xticks(class_counts.index, labels=labels)\n",
    "    ax.tick_params(axis='x', rotation=45)\n",
    "    ax.set_xlabel('Class')\n",
    "    ax.set_ylabel('Count')\n",
    "\n",
    "axes[0].set_title('Before Resampling')\n",
    "axes[1].set_title('After Resampling');\n",
    "# sns.scatterplot(data=X_plot, x='carat', y='price', hue=y_plot, marker='D', alpha=0.5, edgecolor=None, ax=ax[0])\n",
    "# sns.scatterplot(data=X_resamp, x='carat', y='price', hue=y_resamp, marker='D', alpha=0.5, edgecolor=None, ax=ax[1])"
   ]
  },
  {
   "cell_type": "markdown",
   "metadata": {},
   "source": [
    "## FINAL MODEL: Random Forest Classifier Trained on Rebalanced Classes using Smote - "
   ]
  },
  {
   "cell_type": "code",
   "execution_count": null,
   "metadata": {},
   "outputs": [],
   "source": [
    "X = preprocessed_diamonds[features].drop(columns=['natural'])\n",
    "y = preprocessed_diamonds['price_point']\n",
    "\n",
    "over = SMOTE(sampling_strategy='auto')\n",
    "model = RandomForestClassifier(criterion='log_loss', max_depth=400, min_samples_split=15, n_estimators=400)\n",
    "\n",
    "steps = [('over', over), ('model', model)]\n",
    "\n",
    "pipeline = imb_pipe(steps=steps)\n",
    "\n",
    "cv = RepeatedStratifiedKFold(n_splits=10, n_repeats=3)\n",
    "\n",
    "scores = cross_val_score(pipeline, X, y, scoring='', cv=cv, n_jobs=-1)"
   ]
  },
  {
   "cell_type": "code",
   "execution_count": null,
   "metadata": {},
   "outputs": [],
   "source": []
  },
  {
   "cell_type": "code",
   "execution_count": null,
   "metadata": {},
   "outputs": [],
   "source": []
  }
 ],
 "metadata": {
  "kernelspec": {
   "display_name": "learn-env",
   "language": "python",
   "name": "python3"
  },
  "language_info": {
   "codemirror_mode": {
    "name": "ipython",
    "version": 3
   },
   "file_extension": ".py",
   "mimetype": "text/x-python",
   "name": "python",
   "nbconvert_exporter": "python",
   "pygments_lexer": "ipython3",
   "version": "3.8.5"
  }
 },
 "nbformat": 4,
 "nbformat_minor": 2
}

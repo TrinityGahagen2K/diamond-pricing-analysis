{
 "cells": [
  {
   "cell_type": "markdown",
   "metadata": {},
   "source": [
    "# Diamond Pricing Analysis\n",
    "## Authored by Trinity Gahagen\n",
    "#### Phase 3 Project for Flatiron School\n",
    "---\n",
    "---"
   ]
  },
  {
   "cell_type": "markdown",
   "metadata": {},
   "source": [
    "# Table of Contents\n",
    "1. [Data Overview](#data-overview)\n",
    "    1. [Inital Data Exploration](#initial-data-exploration)\n",
    "2. [EDA: Descriptive Analysis](#eda-descriptive-analysis)"
   ]
  },
  {
   "cell_type": "markdown",
   "metadata": {},
   "source": [
    "# Data Overview\n",
    "---\n",
    "\n",
    "*Dataset Kaggle Page:* https://www.kaggle.com/datasets/miguelcorraljr/brilliant-diamonds\n",
    "\n",
    "This dataset was scraped back in 2020 off of Brilliant Earth's diamond catalogue. It hosts the folllowing columns:\n",
    "\n",
    "|Attribute|\tDescription\t|Data Type|\n",
    "|---------|-------------|---------|\n",
    "|id|Diamond identification number provided by Brilliant Earth|int\n",
    "|url|URL for the diamond details page|string\n",
    "|shape|External geometric appearance of a diamond|string/categorical\n",
    "|price|Price in U.S. dollars|int\n",
    "|carat|Unit of measurement used to describe the weight of a diamond|float\n",
    "|cut|Facets, symmetry, and reflective qualities of a diamond|string/categorical\n",
    "|color|Natural color or lack of color visible within a diamond, based on the GIA grade scale|string/categorical\n",
    "|clarity|Visibility of natural microscopic inclusions and imperfections within a diamond|string/categorical\n",
    "|report|Diamond certificate or grading report provided by an independent gemology lab|string\n",
    "|type|Natural or lab created diamonds|string\n",
    "|date_fetched|Date the data was fetched|date"
   ]
  },
  {
   "cell_type": "markdown",
   "metadata": {},
   "source": [
    "### Initial Data Exploration"
   ]
  },
  {
   "cell_type": "code",
   "execution_count": 1,
   "metadata": {},
   "outputs": [],
   "source": [
    "# Base Imports\n",
    "import numpy as np\n",
    "import pandas as pd\n",
    "import matplotlib.pyplot as plt\n",
    "import seaborn as sns\n",
    "\n",
    "# Statistical modules\n",
    "import scipy.stats as stats\n",
    "\n",
    "# ML Tools\n",
    "from sklearn.preprocessing import StandardScaler, MinMaxScaler\n",
    "from sklearn.decomposition import PCA\n",
    "from sklearn.discriminant_analysis import LinearDiscriminantAnalysis as LDA\n",
    "from sklearn.model_selection import train_test_split, KFold, GridSearchCV, RandomizedSearchCV, cross_val_score\n",
    "# Classification metrics\n",
    "from sklearn.metrics import classification_report, confusion_matrix, accuracy_score, f1_score, precision_score, roc_auc_score\n",
    "# Regression metrics\n",
    "from sklearn.metrics import r2_score, mean_absolute_error, mean_squared_error, explained_variance_score\n",
    "\n",
    "# ML Models\n",
    "from sklearn.neighbors import KNeighborsClassifier, KNeighborsRegressor\n",
    "from sklearn.svm import SVC, SVR\n",
    "from sklearn.tree import DecisionTreeClassifier, DecisionTreeRegressor\n",
    "from sklearn.naive_bayes import GaussianNB, MultinomialNB\n",
    "from sklearn.linear_model import LinearRegression, LogisticRegression\n",
    "from sklearn.ensemble import RandomForestClassifier, RandomForestRegressor"
   ]
  },
  {
   "cell_type": "markdown",
   "metadata": {},
   "source": [
    "# EDA: Descriptive Analysis\n",
    "---"
   ]
  },
  {
   "cell_type": "markdown",
   "metadata": {},
   "source": []
  }
 ],
 "metadata": {
  "kernelspec": {
   "display_name": "learn-env",
   "language": "python",
   "name": "python3"
  },
  "language_info": {
   "codemirror_mode": {
    "name": "ipython",
    "version": 3
   },
   "file_extension": ".py",
   "mimetype": "text/x-python",
   "name": "python",
   "nbconvert_exporter": "python",
   "pygments_lexer": "ipython3",
   "version": "3.8.5"
  }
 },
 "nbformat": 4,
 "nbformat_minor": 2
}
